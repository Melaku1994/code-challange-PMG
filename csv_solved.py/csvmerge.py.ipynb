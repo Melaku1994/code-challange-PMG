{
 "cells": [
  {
   "cell_type": "markdown",
   "id": "4ead41a8",
   "metadata": {},
   "source": [
    "import numpy as np\n",
    "import pandas as pd\n",
    "from pandas import Series, DataFrame "
   ]
  },
  {
   "cell_type": "markdown",
   "id": "14eb7d4b",
   "metadata": {},
   "source": [
    "# We can do this in few different ways "
   ]
  },
  {
   "cell_type": "markdown",
   "id": "1c1de07d",
   "metadata": {},
   "source": [
    "# Method 1"
   ]
  },
  {
   "cell_type": "markdown",
   "id": "19f1346a",
   "metadata": {},
   "source": [
    "### For this part we will provide name for the files to easly merge in to one csv file."
   ]
  },
  {
   "cell_type": "code",
   "execution_count": 71,
   "id": "b4d672f0",
   "metadata": {},
   "outputs": [
    {
     "data": {
      "text/plain": [
       "['Comb_clothing.csv', 'Comb_houshold_cleaners.csv', 'Comb_accessories.csv']"
      ]
     },
     "execution_count": 71,
     "metadata": {},
     "output_type": "execute_result"
    }
   ],
   "source": [
    "#importing glob to combine the files together\n",
    "import glob\n",
    "glob.glob('Comb*.csv')"
   ]
  },
  {
   "cell_type": "code",
   "execution_count": 66,
   "id": "7f182d40",
   "metadata": {},
   "outputs": [],
   "source": [
    "df1 = pd.read_csv('Comb_clothing.csv')"
   ]
  },
  {
   "cell_type": "code",
   "execution_count": 67,
   "id": "6bca76a5",
   "metadata": {},
   "outputs": [],
   "source": [
    "df2 = pd.read_csv('Comb_houshold_cleaners.csv')"
   ]
  },
  {
   "cell_type": "code",
   "execution_count": 68,
   "id": "c3270ff1",
   "metadata": {},
   "outputs": [],
   "source": [
    "df3 = pd.read_csv('Comb_accessories.csv')"
   ]
  },
  {
   "cell_type": "code",
   "execution_count": null,
   "id": "8117d6ae",
   "metadata": {},
   "outputs": [],
   "source": [
    "all_dfs = []\n",
    "for one_filename in glob.glob('Comb*.csv'):\n",
    "    print(f'Loading{one_filename}')\n",
    "    new_df = pd.read_csv(one_filename)#usecols=['email_hash','category','filename']\n",
    "                        \n",
    "    all_dfs.append(new_df)"
   ]
  },
  {
   "cell_type": "code",
   "execution_count": 53,
   "id": "841b8c4f",
   "metadata": {},
   "outputs": [
    {
     "data": {
      "text/plain": [
       "3"
      ]
     },
     "execution_count": 53,
     "metadata": {},
     "output_type": "execute_result"
    }
   ],
   "source": [
    "len(all_dfs)"
   ]
  },
  {
   "cell_type": "code",
   "execution_count": 61,
   "id": "b16cf03a",
   "metadata": {},
   "outputs": [],
   "source": [
    "df = pd.concat(all_dfs)"
   ]
  },
  {
   "cell_type": "code",
   "execution_count": 62,
   "id": "53e38de6",
   "metadata": {},
   "outputs": [
    {
     "data": {
      "text/plain": [
       "(1172, 4)"
      ]
     },
     "execution_count": 62,
     "metadata": {},
     "output_type": "execute_result"
    }
   ],
   "source": [
    "#print(all_dfs)\n",
    "df.shape"
   ]
  },
  {
   "cell_type": "code",
   "execution_count": null,
   "id": "fe0ffe74",
   "metadata": {},
   "outputs": [],
   "source": [
    "df['category'].value_counts()"
   ]
  },
  {
   "cell_type": "code",
   "execution_count": null,
   "id": "37c34727",
   "metadata": {},
   "outputs": [],
   "source": [
    "print(df)"
   ]
  },
  {
   "cell_type": "markdown",
   "id": "61c0cd92",
   "metadata": {},
   "source": [
    "# Method 2\n"
   ]
  },
  {
   "cell_type": "markdown",
   "id": "8d5c39e7",
   "metadata": {},
   "source": [
    "## For this part we use the csv file without changing any formatting"
   ]
  },
  {
   "cell_type": "code",
   "execution_count": null,
   "id": "33a55cb1",
   "metadata": {},
   "outputs": [],
   "source": [
    "#str checking structoure if python saved the file as we want \n",
    "Clothing_df = pd.read_csv('Clothing.csv')\n",
    "Clothing_df\n",
    "\n",
    "df = pd.DataFrame(Clothing_df)\n",
    "\n",
    "str(df)\n",
    "\n",
    "Accessories_df = pd.read_csv('Accessories.csv')\n",
    "Accessories_df\n",
    "\n",
    "Houshold_cleaners_df = pd.read_csv('Houshold_cleaners.csv')\n",
    "Houshold_cleaners_df\n",
    "\n",
    "# merging all csv files\n",
    "filesdf = pd.concat(    map(pd.read_csv, ['Accessories.csv','Houshold_cleaners.csv','Clothing.csv']))\n",
    "                    \n",
    "display(filesdf)\n",
    "\n",
    "#print(filesdf)"
   ]
  }
 ],
 "metadata": {
  "kernelspec": {
   "display_name": "Python 3 (ipykernel)",
   "language": "python",
   "name": "python3"
  },
  "language_info": {
   "codemirror_mode": {
    "name": "ipython",
    "version": 3
   },
   "file_extension": ".py",
   "mimetype": "text/x-python",
   "name": "python",
   "nbconvert_exporter": "python",
   "pygments_lexer": "ipython3",
   "version": "3.9.7"
  }
 },
 "nbformat": 4,
 "nbformat_minor": 5
}
