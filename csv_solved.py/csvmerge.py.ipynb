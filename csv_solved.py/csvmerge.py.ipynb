{
 "cells": [
  {
   "cell_type": "markdown",
   "id": "9877dd05",
   "metadata": {},
   "source": [
    "import numpy as np\n",
    "import pandas as pd\n",
    "from pandas import Series, DataFrame "
   ]
  },
  {
   "cell_type": "markdown",
   "id": "36d26ee7",
   "metadata": {},
   "source": [
    "# We can do this in few different ways "
   ]
  },
  {
   "cell_type": "markdown",
   "id": "945d2285",
   "metadata": {},
   "source": [
    "# Method 1"
   ]
  },
  {
   "cell_type": "markdown",
   "id": "638a2cba",
   "metadata": {},
   "source": [
    "### For this part we will provide name for the files to easly merge in to one csv file."
   ]
  },
  {
   "cell_type": "code",
   "execution_count": 63,
   "id": "b4d672f0",
   "metadata": {},
   "outputs": [
    {
     "data": {
      "text/plain": [
       "['Comb_clothing.csv', 'Comb_houshold_cleaners.csv', 'Comb_accessories.csv']"
      ]
     },
     "execution_count": 63,
     "metadata": {},
     "output_type": "execute_result"
    }
   ],
   "source": [
    "#importing glob to combine the files together\n",
    "import glob\n",
    "glob.glob('Comb*.csv')"
   ]
  },
  {
   "cell_type": "code",
   "execution_count": 65,
   "id": "1e47282f",
   "metadata": {},
   "outputs": [
    {
     "ename": "NameError",
     "evalue": "name 'pwd' is not defined",
     "output_type": "error",
     "traceback": [
      "\u001b[0;31m---------------------------------------------------------------------------\u001b[0m",
      "\u001b[0;31mNameError\u001b[0m                                 Traceback (most recent call last)",
      "\u001b[0;32m/var/folders/3w/7tvcs3c95gs5ys48rytj3j600000gn/T/ipykernel_11867/255776738.py\u001b[0m in \u001b[0;36m<module>\u001b[0;34m\u001b[0m\n\u001b[1;32m      1\u001b[0m \u001b[0;31m#checking our current directory\u001b[0m\u001b[0;34m\u001b[0m\u001b[0;34m\u001b[0m\u001b[0m\n\u001b[0;32m----> 2\u001b[0;31m \u001b[0mpwd\u001b[0m\u001b[0;34m\u001b[0m\u001b[0;34m\u001b[0m\u001b[0m\n\u001b[0m",
      "\u001b[0;31mNameError\u001b[0m: name 'pwd' is not defined"
     ]
    }
   ],
   "source": [
    "#checking our current directory \n",
    "pwd"
   ]
  },
  {
   "cell_type": "code",
   "execution_count": 66,
   "id": "7f182d40",
   "metadata": {},
   "outputs": [],
   "source": [
    "df1 = pd.read_csv('Comb_clothing.csv')"
   ]
  },
  {
   "cell_type": "code",
   "execution_count": 67,
   "id": "6bca76a5",
   "metadata": {},
   "outputs": [],
   "source": [
    "df2 = pd.read_csv('Comb_houshold_cleaners.csv')"
   ]
  },
  {
   "cell_type": "code",
   "execution_count": 68,
   "id": "c3270ff1",
   "metadata": {},
   "outputs": [],
   "source": [
    "df3 = pd.read_csv('Comb_accessories.csv')"
   ]
  },
  {
   "cell_type": "code",
   "execution_count": 70,
   "id": "f8e84e3e",
   "metadata": {},
   "outputs": [
    {
     "name": "stdout",
     "output_type": "stream",
     "text": [
      "LoadingComb_clothing.csv\n",
      "LoadingComb_houshold_cleaners.csv\n",
      "LoadingComb_accessories.csv\n"
     ]
    }
   ],
   "source": [
    "all_dfs = []\n",
    "for one_filename in glob.glob('Comb*.csv'):\n",
    "    print(f'Loading{one_filename}')\n",
    "    new_df = pd.read_csv(one_filename)#usecols=['email_hash','category','filename']\n",
    "                        \n",
    "    all_dfs.append(new_df)"
   ]
  },
  {
   "cell_type": "code",
   "execution_count": 53,
   "id": "841b8c4f",
   "metadata": {},
   "outputs": [
    {
     "data": {
      "text/plain": [
       "3"
      ]
     },
     "execution_count": 53,
     "metadata": {},
     "output_type": "execute_result"
    }
   ],
   "source": [
    "len(all_dfs)"
   ]
  },
  {
   "cell_type": "code",
   "execution_count": 61,
   "id": "b16cf03a",
   "metadata": {},
   "outputs": [],
   "source": [
    "df = pd.concat(all_dfs)"
   ]
  },
  {
   "cell_type": "code",
   "execution_count": 62,
   "id": "53e38de6",
   "metadata": {},
   "outputs": [
    {
     "data": {
      "text/plain": [
       "(1172, 4)"
      ]
     },
     "execution_count": 62,
     "metadata": {},
     "output_type": "execute_result"
    }
   ],
   "source": [
    "#print(all_dfs)\n",
    "df.shape"
   ]
  },
  {
   "cell_type": "code",
   "execution_count": 58,
   "id": "6740bad3",
   "metadata": {},
   "outputs": [
    {
     "data": {
      "text/plain": [
       "Bathroom Cleaner    423\n",
       "Kitchen Cleaner     407\n",
       "Purses               65\n",
       "Satchels             55\n",
       "Wallets              52\n",
       "Watches              43\n",
       "Name: category, dtype: int64"
      ]
     },
     "execution_count": 58,
     "metadata": {},
     "output_type": "execute_result"
    }
   ],
   "source": [
    "df['category'].value_counts()"
   ]
  },
  {
   "cell_type": "code",
   "execution_count": 60,
   "id": "e2ab7df1",
   "metadata": {},
   "outputs": [
    {
     "name": "stdout",
     "output_type": "stream",
     "text": [
      "     \"email_hash\",\"category\"  \\\n",
      "0                        NaN   \n",
      "1                        NaN   \n",
      "2                        NaN   \n",
      "3                        NaN   \n",
      "4                        NaN   \n",
      "..                       ...   \n",
      "210                      NaN   \n",
      "211                      NaN   \n",
      "212                      NaN   \n",
      "213                      NaN   \n",
      "214                      NaN   \n",
      "\n",
      "                                            Unnamed: 1  \\\n",
      "0    \"b9f6f22276c919da793da65c76345ebb0b072257d1240...   \n",
      "1    \"c2b5fa9e09ef2464a2b9ed7e351a5e1499823083c0579...   \n",
      "2    \"faaee0ff7d06b05313ecb75d46a9aed014b11023ca1af...   \n",
      "3    \"5cd72da5035f2b36b604a16efc639cd04b6cfae7e487d...   \n",
      "4    \"00449a86bb34e443a5f84635661f63514574a030a15e2...   \n",
      "..                                                 ...   \n",
      "210                                                NaN   \n",
      "211                                                NaN   \n",
      "212                                                NaN   \n",
      "213                                                NaN   \n",
      "214                                                NaN   \n",
      "\n",
      "                                            email_hash  category  \n",
      "0                                                  NaN       NaN  \n",
      "1                                                  NaN       NaN  \n",
      "2                                                  NaN       NaN  \n",
      "3                                                  NaN       NaN  \n",
      "4                                                  NaN       NaN  \n",
      "..                                                 ...       ...  \n",
      "210  1f89b9e5e91e28b448103d8d14c8802382523934d439b9...  Satchels  \n",
      "211  957f3cdcd5a5f9dcc0137377648b939c60d2fbb980110c...   Watches  \n",
      "212  03ec8c2e6a17903af7f2a0b604127f91a6be38caa04d84...  Satchels  \n",
      "213  3b13daf29e360d56a4e80046c763bd925b8cbe60870d5c...  Satchels  \n",
      "214  99f59bddbb78a2ee92b520dd1674ae986f406809d6a1ea...  Satchels  \n",
      "\n",
      "[1172 rows x 4 columns]\n"
     ]
    }
   ],
   "source": [
    "print(df)"
   ]
  },
  {
   "cell_type": "markdown",
   "id": "efe7bf7d",
   "metadata": {},
   "source": [
    "# Method 2\n"
   ]
  },
  {
   "cell_type": "markdown",
   "id": "d7ea3648",
   "metadata": {},
   "source": [
    "## For this part we use the csv file without changing any formatting"
   ]
  },
  {
   "cell_type": "code",
   "execution_count": null,
   "id": "b5a6cbd4",
   "metadata": {},
   "outputs": [],
   "source": [
    "#str checking structoure if python saved the file as we want \n",
    "Clothing_df = pd.read_csv('Clothing.csv')\n",
    "Clothing_df\n",
    "\n",
    "df = pd.DataFrame(Clothing_df)\n",
    "\n",
    "str(df)\n",
    "\n",
    "Accessories_df = pd.read_csv('Accessories.csv')\n",
    "Accessories_df\n",
    "\n",
    "Houshold_cleaners_df = pd.read_csv('Houshold_cleaners.csv')\n",
    "Houshold_cleaners_df\n",
    "\n",
    "# merging all csv files\n",
    "filesdf = pd.concat(    map(pd.read_csv, ['Accessories.csv','Houshold_cleaners.csv','Clothing.csv']))\n",
    "                    \n",
    "display(filesdf)\n",
    "\n",
    "#print(filesdf)"
   ]
  }
 ],
 "metadata": {
  "kernelspec": {
   "display_name": "Python 3 (ipykernel)",
   "language": "python",
   "name": "python3"
  },
  "language_info": {
   "codemirror_mode": {
    "name": "ipython",
    "version": 3
   },
   "file_extension": ".py",
   "mimetype": "text/x-python",
   "name": "python",
   "nbconvert_exporter": "python",
   "pygments_lexer": "ipython3",
   "version": "3.9.7"
  }
 },
 "nbformat": 4,
 "nbformat_minor": 5
}
